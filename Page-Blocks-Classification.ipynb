{
  "nbformat": 4,
  "nbformat_minor": 0,
  "metadata": {
    "colab": {
      "provenance": [],
      "collapsed_sections": [
        "IkU698VIcZH-",
        "qeYwNIfCdtsh",
        "sFM_FIS6eOWw",
        "ob1KqypXig-Z",
        "id1CKQOUeTFk",
        "Y4BMzTq9eY5m",
        "vR332R6Sefcv",
        "NMGn2GrnRgk-",
        "J10w2JjiqPuf",
        "JF-geJ4kkeX8",
        "sU8Wzf_dlJRw",
        "OF-lQMyHo6oV",
        "WmcIrDxXgcFH",
        "P7IDkOp6gipz",
        "tcHIeTqpgjX9",
        "RgUIG_lHlcss",
        "xUc_IZu_lnrL",
        "bnObYOnigjvt",
        "SLDuMHx_gvxC",
        "rQQjVAgAgwKI",
        "rnUn4JiGm5Ib",
        "baptaZBiRSYz",
        "QWpD17qbvaK3",
        "RZApzaGi3D5O",
        "3m03rR5g3kp-",
        "KyekM2DpjO_3",
        "hWNRSTZdliYq",
        "-0fHcPa1zDDu",
        "M5-PDJGGR9gi",
        "tLPakbrfVYEn",
        "z3C7IFe2WTKX",
        "L-kB8CFTnY-S",
        "w1tUuYFythJ_",
        "QXtncNy4rjDw",
        "UtxJvvA6rmTC",
        "ZqI-cNny4xGS",
        "9LAsfS4n42bQ",
        "uZJQ16mw47fK",
        "9Z0aHofL6SMR",
        "QlN9Xpei6W6-"
      ]
    },
    "kernelspec": {
      "name": "python3",
      "display_name": "Python 3"
    },
    "language_info": {
      "name": "python"
    }
  },
  "cells": [
    {
      "cell_type": "markdown",
      "source": [
        "# **Libraries Import**"
      ],
      "metadata": {
        "id": "IkU698VIcZH-"
      }
    },
    {
      "cell_type": "markdown",
      "source": [
        "### **Data Analysis**"
      ],
      "metadata": {
        "id": "qeYwNIfCdtsh"
      }
    },
    {
      "cell_type": "code",
      "source": [
        "import pandas as pd"
      ],
      "metadata": {
        "id": "ANNTMt6Ociot"
      },
      "execution_count": 2,
      "outputs": []
    },
    {
      "cell_type": "markdown",
      "source": [
        "### **Calculus**"
      ],
      "metadata": {
        "id": "sFM_FIS6eOWw"
      }
    },
    {
      "cell_type": "code",
      "source": [
        "import numpy as np"
      ],
      "metadata": {
        "id": "IZokTcwRcmh8"
      },
      "execution_count": 3,
      "outputs": []
    },
    {
      "cell_type": "markdown",
      "source": [
        "### **Data Visualization**"
      ],
      "metadata": {
        "id": "ob1KqypXig-Z"
      }
    },
    {
      "cell_type": "code",
      "source": [
        "from matplotlib import pyplot as plt\n",
        "import plotly.express as px\n",
        "import seaborn as sns"
      ],
      "metadata": {
        "id": "mkODjZepihJl"
      },
      "execution_count": 4,
      "outputs": []
    },
    {
      "cell_type": "markdown",
      "source": [
        "### **Data Splitting**"
      ],
      "metadata": {
        "id": "id1CKQOUeTFk"
      }
    },
    {
      "cell_type": "code",
      "source": [
        "from sklearn.model_selection import train_test_split"
      ],
      "metadata": {
        "id": "fwMHaZddcmrJ"
      },
      "execution_count": 5,
      "outputs": []
    },
    {
      "cell_type": "markdown",
      "source": [
        "### **Grid Search & Halving Grid Search**"
      ],
      "metadata": {
        "id": "Y4BMzTq9eY5m"
      }
    },
    {
      "cell_type": "code",
      "source": [
        "#Grid Search:\n",
        "from sklearn.model_selection import GridSearchCV\n",
        "\n",
        "#Halving Grid Search:\n",
        "from sklearn.experimental import enable_halving_search_cv\n",
        "from sklearn.model_selection import HalvingGridSearchCV\n",
        "#It makes the training process way faster, but lower a little bit the efficiency.\n",
        "#But the models are still pretty accurates."
      ],
      "metadata": {
        "id": "RqOKXESZcmxs"
      },
      "execution_count": 6,
      "outputs": []
    },
    {
      "cell_type": "markdown",
      "source": [
        "### **Scikit-Learn Models**"
      ],
      "metadata": {
        "id": "vR332R6Sefcv"
      }
    },
    {
      "cell_type": "code",
      "source": [
        "#Linear Regression:\n",
        "from sklearn.linear_model import LinearRegression\n",
        "\n",
        "#Logistic Regression:\n",
        "from sklearn.linear_model import LogisticRegression\n",
        "\n",
        "#Linear Discriminant Analysis:\n",
        "from sklearn.discriminant_analysis import LinearDiscriminantAnalysis\n",
        "\n",
        "#Linear Classifiers with Stochastic Gradient Descent training:\n",
        "from sklearn.linear_model import SGDClassifier\n",
        "\n",
        "#Linear Support Vector Classifier:\n",
        "from sklearn.svm import LinearSVC\n",
        "\n",
        "#Gaussian Naive Bayes Classifier:\n",
        "from sklearn.naive_bayes import GaussianNB\n",
        "\n",
        "#Decision Tree Classifier:\n",
        "from sklearn.tree import DecisionTreeClassifier\n",
        "\n",
        "#Random Forest Classifier:\n",
        "from sklearn.ensemble import RandomForestClassifier\n",
        "\n",
        "#Support Vector Machine:\n",
        "from sklearn.svm import SVR\n",
        "\n",
        "#K-Nearest Neighbors Classifier:\n",
        "from sklearn.neighbors import KNeighborsClassifier\n",
        "\n",
        "#Multi-Layer Perceptron Classifier:\n",
        "from sklearn.neural_network import MLPClassifier"
      ],
      "metadata": {
        "id": "1DXxRd3Icm3K"
      },
      "execution_count": 7,
      "outputs": []
    },
    {
      "cell_type": "markdown",
      "source": [
        "# **Data Import**"
      ],
      "metadata": {
        "id": "NMGn2GrnRgk-"
      }
    },
    {
      "cell_type": "markdown",
      "source": [
        "### **Import**"
      ],
      "metadata": {
        "id": "J10w2JjiqPuf"
      }
    },
    {
      "cell_type": "markdown",
      "source": [
        "Loading data with adding columns names (which were not in the .data file):"
      ],
      "metadata": {
        "id": "fX9PzLQgtIeV"
      }
    },
    {
      "cell_type": "code",
      "source": [
        "data =  pd.read_csv('page-blocks.data', sep=\"\\s+\", header=None)\n",
        "data.columns = ['height', 'length', 'area', 'eccen', 'p_black', 'p_and', 'mean_tr', 'blackpix', 'blackand', 'wb_trans', 'type']"
      ],
      "metadata": {
        "id": "6L2tPTTHPZOa"
      },
      "execution_count": null,
      "outputs": []
    },
    {
      "cell_type": "markdown",
      "source": [
        "### **Description**"
      ],
      "metadata": {
        "id": "SzoH6AXSqVCV"
      }
    },
    {
      "cell_type": "code",
      "source": [
        "data"
      ],
      "metadata": {
        "colab": {
          "base_uri": "https://localhost:8080/"
        },
        "id": "HcEnWPzQqd1y",
        "outputId": "11e4eb37-c694-41ac-f9a2-9e45a9bef9eb"
      },
      "execution_count": null,
      "outputs": [
        {
          "output_type": "execute_result",
          "data": {
            "text/plain": [
              "      height  length  area    eccen  p_black  p_and  mean_tr  blackpix  \\\n",
              "0          5       7    35    1.400    0.400  0.657     2.33        14   \n",
              "1          6       7    42    1.167    0.429  0.881     3.60        18   \n",
              "2          6      18   108    3.000    0.287  0.741     4.43        31   \n",
              "3          5       7    35    1.400    0.371  0.743     4.33        13   \n",
              "4          6       3    18    0.500    0.500  0.944     2.25         9   \n",
              "...      ...     ...   ...      ...      ...    ...      ...       ...   \n",
              "5468       4     524  2096  131.000    0.542  0.603    40.57      1136   \n",
              "5469       7       4    28    0.571    0.714  0.929    10.00        20   \n",
              "5470       6      95   570   15.833    0.300  0.911     1.64       171   \n",
              "5471       7      41   287    5.857    0.213  0.801     1.36        61   \n",
              "5472       8       1     8    0.125    1.000  1.000     8.00         8   \n",
              "\n",
              "      blackand  wb_trans  type  \n",
              "0           23         6     1  \n",
              "1           37         5     1  \n",
              "2           80         7     1  \n",
              "3           26         3     1  \n",
              "4           17         4     1  \n",
              "...        ...       ...   ...  \n",
              "5468      1264        28     2  \n",
              "5469        26         2     1  \n",
              "5470       519       104     1  \n",
              "5471       230        45     1  \n",
              "5472         8         1     4  \n",
              "\n",
              "[5473 rows x 11 columns]"
            ],
            "text/html": [
              "\n",
              "  <div id=\"df-fbc842ee-046c-4e0f-bb14-6b7007a37aec\">\n",
              "    <div class=\"colab-df-container\">\n",
              "      <div>\n",
              "<style scoped>\n",
              "    .dataframe tbody tr th:only-of-type {\n",
              "        vertical-align: middle;\n",
              "    }\n",
              "\n",
              "    .dataframe tbody tr th {\n",
              "        vertical-align: top;\n",
              "    }\n",
              "\n",
              "    .dataframe thead th {\n",
              "        text-align: right;\n",
              "    }\n",
              "</style>\n",
              "<table border=\"1\" class=\"dataframe\">\n",
              "  <thead>\n",
              "    <tr style=\"text-align: right;\">\n",
              "      <th></th>\n",
              "      <th>height</th>\n",
              "      <th>length</th>\n",
              "      <th>area</th>\n",
              "      <th>eccen</th>\n",
              "      <th>p_black</th>\n",
              "      <th>p_and</th>\n",
              "      <th>mean_tr</th>\n",
              "      <th>blackpix</th>\n",
              "      <th>blackand</th>\n",
              "      <th>wb_trans</th>\n",
              "      <th>type</th>\n",
              "    </tr>\n",
              "  </thead>\n",
              "  <tbody>\n",
              "    <tr>\n",
              "      <th>0</th>\n",
              "      <td>5</td>\n",
              "      <td>7</td>\n",
              "      <td>35</td>\n",
              "      <td>1.400</td>\n",
              "      <td>0.400</td>\n",
              "      <td>0.657</td>\n",
              "      <td>2.33</td>\n",
              "      <td>14</td>\n",
              "      <td>23</td>\n",
              "      <td>6</td>\n",
              "      <td>1</td>\n",
              "    </tr>\n",
              "    <tr>\n",
              "      <th>1</th>\n",
              "      <td>6</td>\n",
              "      <td>7</td>\n",
              "      <td>42</td>\n",
              "      <td>1.167</td>\n",
              "      <td>0.429</td>\n",
              "      <td>0.881</td>\n",
              "      <td>3.60</td>\n",
              "      <td>18</td>\n",
              "      <td>37</td>\n",
              "      <td>5</td>\n",
              "      <td>1</td>\n",
              "    </tr>\n",
              "    <tr>\n",
              "      <th>2</th>\n",
              "      <td>6</td>\n",
              "      <td>18</td>\n",
              "      <td>108</td>\n",
              "      <td>3.000</td>\n",
              "      <td>0.287</td>\n",
              "      <td>0.741</td>\n",
              "      <td>4.43</td>\n",
              "      <td>31</td>\n",
              "      <td>80</td>\n",
              "      <td>7</td>\n",
              "      <td>1</td>\n",
              "    </tr>\n",
              "    <tr>\n",
              "      <th>3</th>\n",
              "      <td>5</td>\n",
              "      <td>7</td>\n",
              "      <td>35</td>\n",
              "      <td>1.400</td>\n",
              "      <td>0.371</td>\n",
              "      <td>0.743</td>\n",
              "      <td>4.33</td>\n",
              "      <td>13</td>\n",
              "      <td>26</td>\n",
              "      <td>3</td>\n",
              "      <td>1</td>\n",
              "    </tr>\n",
              "    <tr>\n",
              "      <th>4</th>\n",
              "      <td>6</td>\n",
              "      <td>3</td>\n",
              "      <td>18</td>\n",
              "      <td>0.500</td>\n",
              "      <td>0.500</td>\n",
              "      <td>0.944</td>\n",
              "      <td>2.25</td>\n",
              "      <td>9</td>\n",
              "      <td>17</td>\n",
              "      <td>4</td>\n",
              "      <td>1</td>\n",
              "    </tr>\n",
              "    <tr>\n",
              "      <th>...</th>\n",
              "      <td>...</td>\n",
              "      <td>...</td>\n",
              "      <td>...</td>\n",
              "      <td>...</td>\n",
              "      <td>...</td>\n",
              "      <td>...</td>\n",
              "      <td>...</td>\n",
              "      <td>...</td>\n",
              "      <td>...</td>\n",
              "      <td>...</td>\n",
              "      <td>...</td>\n",
              "    </tr>\n",
              "    <tr>\n",
              "      <th>5468</th>\n",
              "      <td>4</td>\n",
              "      <td>524</td>\n",
              "      <td>2096</td>\n",
              "      <td>131.000</td>\n",
              "      <td>0.542</td>\n",
              "      <td>0.603</td>\n",
              "      <td>40.57</td>\n",
              "      <td>1136</td>\n",
              "      <td>1264</td>\n",
              "      <td>28</td>\n",
              "      <td>2</td>\n",
              "    </tr>\n",
              "    <tr>\n",
              "      <th>5469</th>\n",
              "      <td>7</td>\n",
              "      <td>4</td>\n",
              "      <td>28</td>\n",
              "      <td>0.571</td>\n",
              "      <td>0.714</td>\n",
              "      <td>0.929</td>\n",
              "      <td>10.00</td>\n",
              "      <td>20</td>\n",
              "      <td>26</td>\n",
              "      <td>2</td>\n",
              "      <td>1</td>\n",
              "    </tr>\n",
              "    <tr>\n",
              "      <th>5470</th>\n",
              "      <td>6</td>\n",
              "      <td>95</td>\n",
              "      <td>570</td>\n",
              "      <td>15.833</td>\n",
              "      <td>0.300</td>\n",
              "      <td>0.911</td>\n",
              "      <td>1.64</td>\n",
              "      <td>171</td>\n",
              "      <td>519</td>\n",
              "      <td>104</td>\n",
              "      <td>1</td>\n",
              "    </tr>\n",
              "    <tr>\n",
              "      <th>5471</th>\n",
              "      <td>7</td>\n",
              "      <td>41</td>\n",
              "      <td>287</td>\n",
              "      <td>5.857</td>\n",
              "      <td>0.213</td>\n",
              "      <td>0.801</td>\n",
              "      <td>1.36</td>\n",
              "      <td>61</td>\n",
              "      <td>230</td>\n",
              "      <td>45</td>\n",
              "      <td>1</td>\n",
              "    </tr>\n",
              "    <tr>\n",
              "      <th>5472</th>\n",
              "      <td>8</td>\n",
              "      <td>1</td>\n",
              "      <td>8</td>\n",
              "      <td>0.125</td>\n",
              "      <td>1.000</td>\n",
              "      <td>1.000</td>\n",
              "      <td>8.00</td>\n",
              "      <td>8</td>\n",
              "      <td>8</td>\n",
              "      <td>1</td>\n",
              "      <td>4</td>\n",
              "    </tr>\n",
              "  </tbody>\n",
              "</table>\n",
              "<p>5473 rows × 11 columns</p>\n",
              "</div>\n",
              "      <button class=\"colab-df-convert\" onclick=\"convertToInteractive('df-fbc842ee-046c-4e0f-bb14-6b7007a37aec')\"\n",
              "              title=\"Convert this dataframe to an interactive table.\"\n",
              "              style=\"display:none;\">\n",
              "        \n",
              "  <svg xmlns=\"http://www.w3.org/2000/svg\" height=\"24px\"viewBox=\"0 0 24 24\"\n",
              "       width=\"24px\">\n",
              "    <path d=\"M0 0h24v24H0V0z\" fill=\"none\"/>\n",
              "    <path d=\"M18.56 5.44l.94 2.06.94-2.06 2.06-.94-2.06-.94-.94-2.06-.94 2.06-2.06.94zm-11 1L8.5 8.5l.94-2.06 2.06-.94-2.06-.94L8.5 2.5l-.94 2.06-2.06.94zm10 10l.94 2.06.94-2.06 2.06-.94-2.06-.94-.94-2.06-.94 2.06-2.06.94z\"/><path d=\"M17.41 7.96l-1.37-1.37c-.4-.4-.92-.59-1.43-.59-.52 0-1.04.2-1.43.59L10.3 9.45l-7.72 7.72c-.78.78-.78 2.05 0 2.83L4 21.41c.39.39.9.59 1.41.59.51 0 1.02-.2 1.41-.59l7.78-7.78 2.81-2.81c.8-.78.8-2.07 0-2.86zM5.41 20L4 18.59l7.72-7.72 1.47 1.35L5.41 20z\"/>\n",
              "  </svg>\n",
              "      </button>\n",
              "      \n",
              "  <style>\n",
              "    .colab-df-container {\n",
              "      display:flex;\n",
              "      flex-wrap:wrap;\n",
              "      gap: 12px;\n",
              "    }\n",
              "\n",
              "    .colab-df-convert {\n",
              "      background-color: #E8F0FE;\n",
              "      border: none;\n",
              "      border-radius: 50%;\n",
              "      cursor: pointer;\n",
              "      display: none;\n",
              "      fill: #1967D2;\n",
              "      height: 32px;\n",
              "      padding: 0 0 0 0;\n",
              "      width: 32px;\n",
              "    }\n",
              "\n",
              "    .colab-df-convert:hover {\n",
              "      background-color: #E2EBFA;\n",
              "      box-shadow: 0px 1px 2px rgba(60, 64, 67, 0.3), 0px 1px 3px 1px rgba(60, 64, 67, 0.15);\n",
              "      fill: #174EA6;\n",
              "    }\n",
              "\n",
              "    [theme=dark] .colab-df-convert {\n",
              "      background-color: #3B4455;\n",
              "      fill: #D2E3FC;\n",
              "    }\n",
              "\n",
              "    [theme=dark] .colab-df-convert:hover {\n",
              "      background-color: #434B5C;\n",
              "      box-shadow: 0px 1px 3px 1px rgba(0, 0, 0, 0.15);\n",
              "      filter: drop-shadow(0px 1px 2px rgba(0, 0, 0, 0.3));\n",
              "      fill: #FFFFFF;\n",
              "    }\n",
              "  </style>\n",
              "\n",
              "      <script>\n",
              "        const buttonEl =\n",
              "          document.querySelector('#df-fbc842ee-046c-4e0f-bb14-6b7007a37aec button.colab-df-convert');\n",
              "        buttonEl.style.display =\n",
              "          google.colab.kernel.accessAllowed ? 'block' : 'none';\n",
              "\n",
              "        async function convertToInteractive(key) {\n",
              "          const element = document.querySelector('#df-fbc842ee-046c-4e0f-bb14-6b7007a37aec');\n",
              "          const dataTable =\n",
              "            await google.colab.kernel.invokeFunction('convertToInteractive',\n",
              "                                                     [key], {});\n",
              "          if (!dataTable) return;\n",
              "\n",
              "          const docLinkHtml = 'Like what you see? Visit the ' +\n",
              "            '<a target=\"_blank\" href=https://colab.research.google.com/notebooks/data_table.ipynb>data table notebook</a>'\n",
              "            + ' to learn more about interactive tables.';\n",
              "          element.innerHTML = '';\n",
              "          dataTable['output_type'] = 'display_data';\n",
              "          await google.colab.output.renderOutput(dataTable, element);\n",
              "          const docLink = document.createElement('div');\n",
              "          docLink.innerHTML = docLinkHtml;\n",
              "          element.appendChild(docLink);\n",
              "        }\n",
              "      </script>\n",
              "    </div>\n",
              "  </div>\n",
              "  "
            ]
          },
          "metadata": {},
          "execution_count": 11
        }
      ]
    },
    {
      "cell_type": "markdown",
      "metadata": {
        "id": "3d76b93d"
      },
      "source": [
        "Description of the columns given with the dataset:\n",
        "\n",
        "      height:   integer.     | Height of the block.\n",
        "      length:   integer.     | Length of the block.\n",
        "      area:     integer.     | Area of the block (height * lenght);\n",
        "      eccen:    continuous.  | Eccentricity of the block (lenght / height);\n",
        "      p_black:  continuous.  | Percentage of black pixels within the block (blackpix / area);\n",
        "      p_and:    continuous.  | Percentage of black pixels after the application of the Run Length Smoothing Algorithm (RLSA) (blackand / area);\n",
        "      mean_tr:  continuous.  | Mean number of white-black transitions (blackpix / wb_trans);\n",
        "      blackpix: integer.     | Total number of black pixels in the original bitmap of the block.\n",
        "      blackand: integer.     | Total number of black pixels in the bitmap of the block after the RLSA.\n",
        "      wb_trans: integer.     | Number of white-black transitions in the original bitmap of the block.\n",
        "      type: integer.         | Type of the block.       \n",
        "\n",
        "Number of instances: 5473"
      ]
    },
    {
      "cell_type": "markdown",
      "source": [
        "Summary statistics:"
      ],
      "metadata": {
        "id": "wnZMM11wsAEP"
      }
    },
    {
      "cell_type": "code",
      "source": [
        "data.describe()"
      ],
      "metadata": {
        "colab": {
          "base_uri": "https://localhost:8080/"
        },
        "id": "4UeiyqtQqlsp",
        "outputId": "88874990-8e0f-4651-977d-b3618faa49fd"
      },
      "execution_count": null,
      "outputs": [
        {
          "output_type": "execute_result",
          "data": {
            "text/plain": [
              "            height       length           area        eccen      p_black  \\\n",
              "count  5473.000000  5473.000000    5473.000000  5473.000000  5473.000000   \n",
              "mean     10.473232    89.568244    1198.405628    13.753977     0.368642   \n",
              "std      18.960564   114.721758    4849.376950    30.703737     0.177757   \n",
              "min       1.000000     1.000000       7.000000     0.007000     0.052000   \n",
              "25%       7.000000    17.000000     114.000000     2.143000     0.261000   \n",
              "50%       8.000000    41.000000     322.000000     5.167000     0.337000   \n",
              "75%      10.000000   107.000000     980.000000    13.625000     0.426000   \n",
              "max     804.000000   553.000000  143993.000000   537.000000     1.000000   \n",
              "\n",
              "             p_and      mean_tr      blackpix      blackand     wb_trans  \\\n",
              "count  5473.000000  5473.000000   5473.000000   5473.000000  5473.000000   \n",
              "mean      0.785053     6.219278    365.930751    741.108167   106.662891   \n",
              "std       0.170661    69.079021   1270.333082   1881.504302   167.308362   \n",
              "min       0.062000     1.000000      7.000000      7.000000     1.000000   \n",
              "25%       0.679000     1.610000     42.000000     95.000000    17.000000   \n",
              "50%       0.803000     2.070000    108.000000    250.000000    49.000000   \n",
              "75%       0.927000     3.000000    284.000000    718.000000   126.000000   \n",
              "max       1.000000  4955.000000  33017.000000  46133.000000  3212.000000   \n",
              "\n",
              "              type  \n",
              "count  5473.000000  \n",
              "mean      1.202631  \n",
              "std       0.721470  \n",
              "min       1.000000  \n",
              "25%       1.000000  \n",
              "50%       1.000000  \n",
              "75%       1.000000  \n",
              "max       5.000000  "
            ],
            "text/html": [
              "\n",
              "  <div id=\"df-4cbe627f-426e-4b02-b251-4d06c2180cb8\">\n",
              "    <div class=\"colab-df-container\">\n",
              "      <div>\n",
              "<style scoped>\n",
              "    .dataframe tbody tr th:only-of-type {\n",
              "        vertical-align: middle;\n",
              "    }\n",
              "\n",
              "    .dataframe tbody tr th {\n",
              "        vertical-align: top;\n",
              "    }\n",
              "\n",
              "    .dataframe thead th {\n",
              "        text-align: right;\n",
              "    }\n",
              "</style>\n",
              "<table border=\"1\" class=\"dataframe\">\n",
              "  <thead>\n",
              "    <tr style=\"text-align: right;\">\n",
              "      <th></th>\n",
              "      <th>height</th>\n",
              "      <th>length</th>\n",
              "      <th>area</th>\n",
              "      <th>eccen</th>\n",
              "      <th>p_black</th>\n",
              "      <th>p_and</th>\n",
              "      <th>mean_tr</th>\n",
              "      <th>blackpix</th>\n",
              "      <th>blackand</th>\n",
              "      <th>wb_trans</th>\n",
              "      <th>type</th>\n",
              "    </tr>\n",
              "  </thead>\n",
              "  <tbody>\n",
              "    <tr>\n",
              "      <th>count</th>\n",
              "      <td>5473.000000</td>\n",
              "      <td>5473.000000</td>\n",
              "      <td>5473.000000</td>\n",
              "      <td>5473.000000</td>\n",
              "      <td>5473.000000</td>\n",
              "      <td>5473.000000</td>\n",
              "      <td>5473.000000</td>\n",
              "      <td>5473.000000</td>\n",
              "      <td>5473.000000</td>\n",
              "      <td>5473.000000</td>\n",
              "      <td>5473.000000</td>\n",
              "    </tr>\n",
              "    <tr>\n",
              "      <th>mean</th>\n",
              "      <td>10.473232</td>\n",
              "      <td>89.568244</td>\n",
              "      <td>1198.405628</td>\n",
              "      <td>13.753977</td>\n",
              "      <td>0.368642</td>\n",
              "      <td>0.785053</td>\n",
              "      <td>6.219278</td>\n",
              "      <td>365.930751</td>\n",
              "      <td>741.108167</td>\n",
              "      <td>106.662891</td>\n",
              "      <td>1.202631</td>\n",
              "    </tr>\n",
              "    <tr>\n",
              "      <th>std</th>\n",
              "      <td>18.960564</td>\n",
              "      <td>114.721758</td>\n",
              "      <td>4849.376950</td>\n",
              "      <td>30.703737</td>\n",
              "      <td>0.177757</td>\n",
              "      <td>0.170661</td>\n",
              "      <td>69.079021</td>\n",
              "      <td>1270.333082</td>\n",
              "      <td>1881.504302</td>\n",
              "      <td>167.308362</td>\n",
              "      <td>0.721470</td>\n",
              "    </tr>\n",
              "    <tr>\n",
              "      <th>min</th>\n",
              "      <td>1.000000</td>\n",
              "      <td>1.000000</td>\n",
              "      <td>7.000000</td>\n",
              "      <td>0.007000</td>\n",
              "      <td>0.052000</td>\n",
              "      <td>0.062000</td>\n",
              "      <td>1.000000</td>\n",
              "      <td>7.000000</td>\n",
              "      <td>7.000000</td>\n",
              "      <td>1.000000</td>\n",
              "      <td>1.000000</td>\n",
              "    </tr>\n",
              "    <tr>\n",
              "      <th>25%</th>\n",
              "      <td>7.000000</td>\n",
              "      <td>17.000000</td>\n",
              "      <td>114.000000</td>\n",
              "      <td>2.143000</td>\n",
              "      <td>0.261000</td>\n",
              "      <td>0.679000</td>\n",
              "      <td>1.610000</td>\n",
              "      <td>42.000000</td>\n",
              "      <td>95.000000</td>\n",
              "      <td>17.000000</td>\n",
              "      <td>1.000000</td>\n",
              "    </tr>\n",
              "    <tr>\n",
              "      <th>50%</th>\n",
              "      <td>8.000000</td>\n",
              "      <td>41.000000</td>\n",
              "      <td>322.000000</td>\n",
              "      <td>5.167000</td>\n",
              "      <td>0.337000</td>\n",
              "      <td>0.803000</td>\n",
              "      <td>2.070000</td>\n",
              "      <td>108.000000</td>\n",
              "      <td>250.000000</td>\n",
              "      <td>49.000000</td>\n",
              "      <td>1.000000</td>\n",
              "    </tr>\n",
              "    <tr>\n",
              "      <th>75%</th>\n",
              "      <td>10.000000</td>\n",
              "      <td>107.000000</td>\n",
              "      <td>980.000000</td>\n",
              "      <td>13.625000</td>\n",
              "      <td>0.426000</td>\n",
              "      <td>0.927000</td>\n",
              "      <td>3.000000</td>\n",
              "      <td>284.000000</td>\n",
              "      <td>718.000000</td>\n",
              "      <td>126.000000</td>\n",
              "      <td>1.000000</td>\n",
              "    </tr>\n",
              "    <tr>\n",
              "      <th>max</th>\n",
              "      <td>804.000000</td>\n",
              "      <td>553.000000</td>\n",
              "      <td>143993.000000</td>\n",
              "      <td>537.000000</td>\n",
              "      <td>1.000000</td>\n",
              "      <td>1.000000</td>\n",
              "      <td>4955.000000</td>\n",
              "      <td>33017.000000</td>\n",
              "      <td>46133.000000</td>\n",
              "      <td>3212.000000</td>\n",
              "      <td>5.000000</td>\n",
              "    </tr>\n",
              "  </tbody>\n",
              "</table>\n",
              "</div>\n",
              "      <button class=\"colab-df-convert\" onclick=\"convertToInteractive('df-4cbe627f-426e-4b02-b251-4d06c2180cb8')\"\n",
              "              title=\"Convert this dataframe to an interactive table.\"\n",
              "              style=\"display:none;\">\n",
              "        \n",
              "  <svg xmlns=\"http://www.w3.org/2000/svg\" height=\"24px\"viewBox=\"0 0 24 24\"\n",
              "       width=\"24px\">\n",
              "    <path d=\"M0 0h24v24H0V0z\" fill=\"none\"/>\n",
              "    <path d=\"M18.56 5.44l.94 2.06.94-2.06 2.06-.94-2.06-.94-.94-2.06-.94 2.06-2.06.94zm-11 1L8.5 8.5l.94-2.06 2.06-.94-2.06-.94L8.5 2.5l-.94 2.06-2.06.94zm10 10l.94 2.06.94-2.06 2.06-.94-2.06-.94-.94-2.06-.94 2.06-2.06.94z\"/><path d=\"M17.41 7.96l-1.37-1.37c-.4-.4-.92-.59-1.43-.59-.52 0-1.04.2-1.43.59L10.3 9.45l-7.72 7.72c-.78.78-.78 2.05 0 2.83L4 21.41c.39.39.9.59 1.41.59.51 0 1.02-.2 1.41-.59l7.78-7.78 2.81-2.81c.8-.78.8-2.07 0-2.86zM5.41 20L4 18.59l7.72-7.72 1.47 1.35L5.41 20z\"/>\n",
              "  </svg>\n",
              "      </button>\n",
              "      \n",
              "  <style>\n",
              "    .colab-df-container {\n",
              "      display:flex;\n",
              "      flex-wrap:wrap;\n",
              "      gap: 12px;\n",
              "    }\n",
              "\n",
              "    .colab-df-convert {\n",
              "      background-color: #E8F0FE;\n",
              "      border: none;\n",
              "      border-radius: 50%;\n",
              "      cursor: pointer;\n",
              "      display: none;\n",
              "      fill: #1967D2;\n",
              "      height: 32px;\n",
              "      padding: 0 0 0 0;\n",
              "      width: 32px;\n",
              "    }\n",
              "\n",
              "    .colab-df-convert:hover {\n",
              "      background-color: #E2EBFA;\n",
              "      box-shadow: 0px 1px 2px rgba(60, 64, 67, 0.3), 0px 1px 3px 1px rgba(60, 64, 67, 0.15);\n",
              "      fill: #174EA6;\n",
              "    }\n",
              "\n",
              "    [theme=dark] .colab-df-convert {\n",
              "      background-color: #3B4455;\n",
              "      fill: #D2E3FC;\n",
              "    }\n",
              "\n",
              "    [theme=dark] .colab-df-convert:hover {\n",
              "      background-color: #434B5C;\n",
              "      box-shadow: 0px 1px 3px 1px rgba(0, 0, 0, 0.15);\n",
              "      filter: drop-shadow(0px 1px 2px rgba(0, 0, 0, 0.3));\n",
              "      fill: #FFFFFF;\n",
              "    }\n",
              "  </style>\n",
              "\n",
              "      <script>\n",
              "        const buttonEl =\n",
              "          document.querySelector('#df-4cbe627f-426e-4b02-b251-4d06c2180cb8 button.colab-df-convert');\n",
              "        buttonEl.style.display =\n",
              "          google.colab.kernel.accessAllowed ? 'block' : 'none';\n",
              "\n",
              "        async function convertToInteractive(key) {\n",
              "          const element = document.querySelector('#df-4cbe627f-426e-4b02-b251-4d06c2180cb8');\n",
              "          const dataTable =\n",
              "            await google.colab.kernel.invokeFunction('convertToInteractive',\n",
              "                                                     [key], {});\n",
              "          if (!dataTable) return;\n",
              "\n",
              "          const docLinkHtml = 'Like what you see? Visit the ' +\n",
              "            '<a target=\"_blank\" href=https://colab.research.google.com/notebooks/data_table.ipynb>data table notebook</a>'\n",
              "            + ' to learn more about interactive tables.';\n",
              "          element.innerHTML = '';\n",
              "          dataTable['output_type'] = 'display_data';\n",
              "          await google.colab.output.renderOutput(dataTable, element);\n",
              "          const docLink = document.createElement('div');\n",
              "          docLink.innerHTML = docLinkHtml;\n",
              "          element.appendChild(docLink);\n",
              "        }\n",
              "      </script>\n",
              "    </div>\n",
              "  </div>\n",
              "  "
            ]
          },
          "metadata": {},
          "execution_count": 12
        }
      ]
    },
    {
      "cell_type": "markdown",
      "source": [
        "# **Data Cleaning**"
      ],
      "metadata": {
        "id": "JF-geJ4kkeX8"
      }
    },
    {
      "cell_type": "markdown",
      "source": [
        "### **Checking if there is missing data**"
      ],
      "metadata": {
        "id": "sU8Wzf_dlJRw"
      }
    },
    {
      "cell_type": "code",
      "source": [
        "data.isna().sum()"
      ],
      "metadata": {
        "colab": {
          "base_uri": "https://localhost:8080/"
        },
        "id": "avNdgV15kezP",
        "outputId": "3617c38e-57d5-452c-b0f3-147a74db2e78"
      },
      "execution_count": null,
      "outputs": [
        {
          "output_type": "execute_result",
          "data": {
            "text/plain": [
              "height      0\n",
              "length      0\n",
              "area        0\n",
              "eccen       0\n",
              "p_black     0\n",
              "p_and       0\n",
              "mean_tr     0\n",
              "blackpix    0\n",
              "blackand    0\n",
              "wb_trans    0\n",
              "type        0\n",
              "dtype: int64"
            ]
          },
          "metadata": {},
          "execution_count": 13
        }
      ]
    },
    {
      "cell_type": "markdown",
      "source": [
        "There's no missing data, which corresponds to what the description given with the dataset says."
      ],
      "metadata": {
        "id": "2xasU5mKoYRu"
      }
    },
    {
      "cell_type": "markdown",
      "source": [
        "### **Checking if all columns are the correct types**"
      ],
      "metadata": {
        "id": "OF-lQMyHo6oV"
      }
    },
    {
      "cell_type": "code",
      "source": [
        "data.dtypes"
      ],
      "metadata": {
        "colab": {
          "base_uri": "https://localhost:8080/"
        },
        "id": "Wq9sz_mUo0Jx",
        "outputId": "e9521d17-b79b-43e6-e0e8-67d8b814b7e0"
      },
      "execution_count": null,
      "outputs": [
        {
          "output_type": "execute_result",
          "data": {
            "text/plain": [
              "height        int64\n",
              "length        int64\n",
              "area          int64\n",
              "eccen       float64\n",
              "p_black     float64\n",
              "p_and       float64\n",
              "mean_tr     float64\n",
              "blackpix      int64\n",
              "blackand      int64\n",
              "wb_trans      int64\n",
              "type          int64\n",
              "dtype: object"
            ]
          },
          "metadata": {},
          "execution_count": 14
        }
      ]
    },
    {
      "cell_type": "markdown",
      "source": [
        "All columns are numerical, which corresponds to what the description given with the dataset says."
      ],
      "metadata": {
        "id": "5e2K9NhDpgy7"
      }
    },
    {
      "cell_type": "markdown",
      "source": [
        "# **Data Visualization**"
      ],
      "metadata": {
        "id": "WmcIrDxXgcFH"
      }
    },
    {
      "cell_type": "markdown",
      "source": [
        "### **Piechart of all 5 different classes**"
      ],
      "metadata": {
        "id": "P7IDkOp6gipz"
      }
    },
    {
      "cell_type": "code",
      "source": [
        "series = data['type'].value_counts()\n",
        "series\n",
        "\n",
        "df_result = pd.DataFrame(series)\n",
        "df_result = df_result.reset_index()  \n",
        "df_result.columns = ['Type', 'Total']\n",
        "\n",
        "fig = px.pie(df_result,\n",
        "             values='Total',\n",
        "             names='Type', color_discrete_sequence=px.colors.qualitative.Antique)\n",
        "fig.update_layout(legend=dict(\n",
        "    yanchor=\"top\",\n",
        "    y=0.99,\n",
        "    xanchor=\"right\",\n",
        "    x=0.85\n",
        "))\n",
        "fig.show()\n",
        "#The piechart doesn't appear when the notebook is converted to html, so here's a screenshot:"
      ],
      "metadata": {
        "id": "8zDRRJVMgf8X"
      },
      "execution_count": null,
      "outputs": []
    },
    {
      "cell_type": "markdown",
      "source": [
        "![Piechart.PNG](data:image/png;base64,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)"
      ],
      "metadata": {
        "id": "JyVcMKCWgSif"
      }
    },
    {
      "cell_type": "markdown",
      "source": [
        "### **Boxplots of all variables by class**"
      ],
      "metadata": {
        "id": "tcHIeTqpgjX9"
      }
    },
    {
      "cell_type": "markdown",
      "source": [
        "##### **Without the logarithmic scale**"
      ],
      "metadata": {
        "id": "RgUIG_lHlcss"
      }
    },
    {
      "cell_type": "code",
      "source": [
        "fig, axes = plt.subplots(5,2, figsize=(16,16))\n",
        "plt.tight_layout()\n",
        "k=0\n",
        "for i in range(5):\n",
        "    for j in range(2):\n",
        "        a=sns.boxplot(ax=axes[i, j], data=data, x=\"type\",y=data.columns[k])\n",
        "        #a.set_yscale('log')\n",
        "        k+=1"
      ],
      "metadata": {
        "colab": {
          "base_uri": "https://localhost:8080/",
          "height": 1000
        },
        "id": "mHJgtLF0gjiF",
        "outputId": "a6248541-23e7-496a-ff4f-bb63e62b6de9"
      },
      "execution_count": null,
      "outputs": [
        {
          "output_type": "display_data",
          "data": {
            "text/plain": [
              "<Figure size 1152x1152 with 10 Axes>"
            ],
            "image/png": "[encoded data removed]"
          },
          "metadata": {
            "needs_background": "light"
          }
        }
      ]
    },
    {
      "cell_type": "markdown",
      "source": [
        "##### **With the logarithmic scale**"
      ],
      "metadata": {
        "id": "xUc_IZu_lnrL"
      }
    },
    {
      "cell_type": "code",
      "source": [
        "fig, axes = plt.subplots(5,2, figsize=(16,16))\n",
        "plt.tight_layout()\n",
        "k=0\n",
        "for i in range(5):\n",
        "    for j in range(2):\n",
        "        a=sns.boxplot(ax=axes[i, j], data=data, x=\"type\",y=data.columns[k])\n",
        "        a.set_yscale('log')\n",
        "        k+=1"
      ],
      "metadata": {
        "colab": {
          "base_uri": "https://localhost:8080/",
          "height": 1000
        },
        "id": "kNVnO1-HlqDj",
        "outputId": "b18a3df6-76a4-47d3-80ec-66256d14e627"
      },
      "execution_count": null,
      "outputs": [
        {
          "output_type": "display_data",
          "data": {
            "text/plain": [
              "<Figure size 1152x1152 with 10 Axes>"
            ],
            "image/png": "[encoded data removed]"
          },
          "metadata": {
            "needs_background": "light"
          }
        }
      ]
    },
    {
      "cell_type": "markdown",
      "source": [
        "### **Scatterplots of the 3 most explanatory variables according to the number of black pixels**"
      ],
      "metadata": {
        "id": "bnObYOnigjvt"
      }
    },
    {
      "cell_type": "code",
      "source": [
        "data1=data.sample(frac=0.015)\n",
        "x_vars = ['height', 'area','p_black']\n",
        "y_var = 'blackand'\n",
        "\n",
        "g = sns.FacetGrid(pd.DataFrame(x_vars), col=0, col_wrap=3, sharex=False)\n",
        "for ax, x_var in zip(g.axes, x_vars):\n",
        "    sns.scatterplot(data=data1, x=x_var, y=y_var, ax=ax, hue='type')\n",
        "g.tight_layout()"
      ],
      "metadata": {
        "colab": {
          "base_uri": "https://localhost:8080/",
          "height": 225
        },
        "id": "LtrDZlgYgj26",
        "outputId": "0d5e8c1f-98f0-422b-ddb5-178fde946256"
      },
      "execution_count": null,
      "outputs": [
        {
          "output_type": "display_data",
          "data": {
            "text/plain": [
              "<Figure size 648x216 with 3 Axes>"
            ],
            "image/png": "[encoded data removed]"
          },
          "metadata": {
            "needs_background": "light"
          }
        }
      ]
    },
    {
      "cell_type": "markdown",
      "source": [
        "### **Scatterplot of the number of black pixels with the distribution area by class**"
      ],
      "metadata": {
        "id": "SLDuMHx_gvxC"
      }
    },
    {
      "cell_type": "code",
      "source": [
        "data1=data.sample(frac=0.1)\n",
        "grid=sns.lmplot(x=\"blackpix\", y=\"area\", data=data1, hue='type' ,ci=None, height=9)\n",
        "grid.set(xscale=\"log\", yscale=\"log\")"
      ],
      "metadata": {
        "colab": {
          "base_uri": "https://localhost:8080/",
          "height": 678
        },
        "id": "EKGlOP0Wgv8D",
        "outputId": "565f4949-6cdd-468d-b6d3-52dfa0e28bdf"
      },
      "execution_count": null,
      "outputs": [
        {
          "output_type": "execute_result",
          "data": {
            "text/plain": [
              "<seaborn.axisgrid.FacetGrid at 0x7f3ad5580be0>"
            ]
          },
          "metadata": {},
          "execution_count": 27
        },
        {
          "output_type": "display_data",
          "data": {
            "text/plain": [
              "<Figure size 690.375x648 with 1 Axes>"
            ],
            "image/png": "[encoded data removed]"
          },
          "metadata": {
            "needs_background": "light"
          }
        }
      ]
    },
    {
      "cell_type": "markdown",
      "source": [
        "### **Scatterplot of the height according to the length by class**"
      ],
      "metadata": {
        "id": "rQQjVAgAgwKI"
      }
    },
    {
      "cell_type": "code",
      "source": [
        "data1=data.sample(frac=0.1)\n",
        "grid=sns.scatterplot(x=\"length\", y='height', data=data1, hue='type', size='type', sizes=(70,100))\n",
        "grid.set(xscale='log',yscale='log')"
      ],
      "metadata": {
        "colab": {
          "base_uri": "https://localhost:8080/",
          "height": 300
        },
        "id": "0_1Qmd5PgwUD",
        "outputId": "5332d385-6b35-4f5f-8587-405273277647"
      },
      "execution_count": null,
      "outputs": [
        {
          "output_type": "execute_result",
          "data": {
            "text/plain": [
              "[None, None]"
            ]
          },
          "metadata": {},
          "execution_count": 29
        },
        {
          "output_type": "display_data",
          "data": {
            "text/plain": [
              "<Figure size 432x288 with 1 Axes>"
            ],
            "image/png": "[encoded data removed]"
          },
          "metadata": {
            "needs_background": "light"
          }
        }
      ]
    },
    {
      "cell_type": "markdown",
      "source": [
        "### **Scatterplot of the number of black pixels according to the number of white/black transitions**"
      ],
      "metadata": {
        "id": "rnUn4JiGm5Ib"
      }
    },
    {
      "cell_type": "code",
      "source": [
        "data1=data.sample(frac=0.1)\n",
        "grid = sns.scatterplot(x=\"blackpix\", y=\"wb_trans\", data=data1, palette='pastel', hue = 'type', size = 'type',\n",
        "                    sizes=(50, 100))\n",
        "grid.set(xscale=\"log\", yscale=\"log\")"
      ],
      "metadata": {
        "colab": {
          "base_uri": "https://localhost:8080/",
          "height": 300
        },
        "id": "e14NyHdGm5Qa",
        "outputId": "80f6c78f-bc53-4cc1-af81-0097554bf676"
      },
      "execution_count": null,
      "outputs": [
        {
          "output_type": "execute_result",
          "data": {
            "text/plain": [
              "[None, None]"
            ]
          },
          "metadata": {},
          "execution_count": 18
        },
        {
          "output_type": "display_data",
          "data": {
            "text/plain": [
              "<Figure size 432x288 with 1 Axes>"
            ],
            "image/png": "[encoded data removed]"
          },
          "metadata": {
            "needs_background": "light"
          }
        }
      ]
    },
    {
      "cell_type": "markdown",
      "source": [
        "# **Trainset & Testset**"
      ],
      "metadata": {
        "id": "baptaZBiRSYz"
      }
    },
    {
      "cell_type": "code",
      "source": [
        "X = data[['height','length','area','eccen','p_black','p_and','mean_tr','blackpix','blackand','wb_trans']].to_numpy()\n",
        "X"
      ],
      "metadata": {
        "colab": {
          "base_uri": "https://localhost:8080/"
        },
        "id": "gBRLBv88Ptge",
        "outputId": "37d46e69-9056-4500-e7be-2569c0a71822"
      },
      "execution_count": null,
      "outputs": [
        {
          "output_type": "execute_result",
          "data": {
            "text/plain": [
              "array([[  5.,   7.,  35., ...,  14.,  23.,   6.],\n",
              "       [  6.,   7.,  42., ...,  18.,  37.,   5.],\n",
              "       [  6.,  18., 108., ...,  31.,  80.,   7.],\n",
              "       ...,\n",
              "       [  6.,  95., 570., ..., 171., 519., 104.],\n",
              "       [  7.,  41., 287., ...,  61., 230.,  45.],\n",
              "       [  8.,   1.,   8., ...,   8.,   8.,   1.]])"
            ]
          },
          "metadata": {},
          "execution_count": 5
        }
      ]
    },
    {
      "cell_type": "code",
      "source": [
        "y = data['type'].to_numpy()\n",
        "y"
      ],
      "metadata": {
        "colab": {
          "base_uri": "https://localhost:8080/"
        },
        "id": "NLberVfJQRMU",
        "outputId": "df536d67-a384-4a5a-e8be-26a4b5fe5852"
      },
      "execution_count": null,
      "outputs": [
        {
          "output_type": "execute_result",
          "data": {
            "text/plain": [
              "array([1, 1, 1, ..., 1, 1, 4])"
            ]
          },
          "metadata": {},
          "execution_count": 6
        }
      ]
    },
    {
      "cell_type": "code",
      "source": [
        "X_train, X_test, y_train, y_test = train_test_split(X, y, test_size = 0.2, random_state = 0)"
      ],
      "metadata": {
        "id": "rdTy0StGQk41"
      },
      "execution_count": null,
      "outputs": []
    },
    {
      "cell_type": "code",
      "source": [
        "print(X_train.shape)\n",
        "print(X_test.shape)\n",
        "print(y_train.shape)\n",
        "print(y_test.shape)"
      ],
      "metadata": {
        "colab": {
          "base_uri": "https://localhost:8080/"
        },
        "id": "DgxcxznoQxIH",
        "outputId": "bbc09604-5822-4676-bb56-80a2bfcaa5ec"
      },
      "execution_count": null,
      "outputs": [
        {
          "output_type": "stream",
          "name": "stdout",
          "text": [
            "(4378, 10)\n",
            "(1095, 10)\n",
            "(4378,)\n",
            "(1095,)\n"
          ]
        }
      ]
    },
    {
      "cell_type": "markdown",
      "source": [
        "# **Machine Learning**"
      ],
      "metadata": {
        "id": "zV58S2JKRYlm"
      }
    },
    {
      "cell_type": "markdown",
      "source": [
        "### **Linear Regression**"
      ],
      "metadata": {
        "id": "QWpD17qbvaK3"
      }
    },
    {
      "cell_type": "code",
      "source": [
        "regressor = LinearRegression()\n",
        "regressor.fit(X_train,y_train)"
      ],
      "metadata": {
        "id": "QpXsgXwFvmOd",
        "colab": {
          "base_uri": "https://localhost:8080/"
        },
        "outputId": "5523f573-2ab7-4806-ff39-de4b15770412"
      },
      "execution_count": null,
      "outputs": [
        {
          "output_type": "execute_result",
          "data": {
            "text/plain": [
              "LinearRegression()"
            ]
          },
          "metadata": {},
          "execution_count": 61
        }
      ]
    },
    {
      "cell_type": "markdown",
      "source": [
        "Training time: 0.218s"
      ],
      "metadata": {
        "id": "HQd6emIzjV3V"
      }
    },
    {
      "cell_type": "code",
      "source": [
        "regressor.score(X_test,y_test)"
      ],
      "metadata": {
        "colab": {
          "base_uri": "https://localhost:8080/"
        },
        "id": "O_6F2WZNwWqn",
        "outputId": "f68bdd49-9536-4211-9355-da5c4f5c8945"
      },
      "execution_count": null,
      "outputs": [
        {
          "output_type": "execute_result",
          "data": {
            "text/plain": [
              "0.30861531316590607"
            ]
          },
          "metadata": {},
          "execution_count": 62
        }
      ]
    },
    {
      "cell_type": "markdown",
      "source": [
        "### **Logistic Regression**"
      ],
      "metadata": {
        "id": "RZApzaGi3D5O"
      }
    },
    {
      "cell_type": "code",
      "source": [
        "regressor = LogisticRegression()\n",
        "regressor.fit(X_train,y_train)"
      ],
      "metadata": {
        "id": "_-mW8eSq3Moa"
      },
      "execution_count": null,
      "outputs": []
    },
    {
      "cell_type": "markdown",
      "source": [
        "Training time: 0.955s"
      ],
      "metadata": {
        "id": "ItJuuAZejbOl"
      }
    },
    {
      "cell_type": "code",
      "source": [
        "regressor.score(X_test,y_test)"
      ],
      "metadata": {
        "colab": {
          "base_uri": "https://localhost:8080/"
        },
        "id": "4xy33Ay53T3k",
        "outputId": "52ffb346-cfb3-45ff-8402-437d9959f87a"
      },
      "execution_count": null,
      "outputs": [
        {
          "output_type": "execute_result",
          "data": {
            "text/plain": [
              "0.947945205479452"
            ]
          },
          "metadata": {},
          "execution_count": 68
        }
      ]
    },
    {
      "cell_type": "markdown",
      "source": [
        "### **Linear Discriminant Analysis**"
      ],
      "metadata": {
        "id": "3m03rR5g3kp-"
      }
    },
    {
      "cell_type": "code",
      "source": [
        "param_grid = {'solver':['svd','lsqr','eigen']}\n",
        "grid = GridSearchCV(LinearDiscriminantAnalysis(), param_grid)\n",
        "model = grid.fit(X_train,y_train)"
      ],
      "metadata": {
        "id": "ydeoGapD37tJ"
      },
      "execution_count": null,
      "outputs": []
    },
    {
      "cell_type": "markdown",
      "source": [
        "Training time: 0.527s"
      ],
      "metadata": {
        "id": "lRFzefsJjfFB"
      }
    },
    {
      "cell_type": "code",
      "source": [
        "grid.best_estimator_"
      ],
      "metadata": {
        "colab": {
          "base_uri": "https://localhost:8080/"
        },
        "id": "fv0vcySu4tFc",
        "outputId": "092e3c98-826a-4263-ca16-66dd83dc268e"
      },
      "execution_count": null,
      "outputs": [
        {
          "output_type": "execute_result",
          "data": {
            "text/plain": [
              "LinearDiscriminantAnalysis()"
            ]
          },
          "metadata": {},
          "execution_count": 36
        }
      ]
    },
    {
      "cell_type": "code",
      "source": [
        "grid.best_score_"
      ],
      "metadata": {
        "colab": {
          "base_uri": "https://localhost:8080/"
        },
        "id": "t_2nkPVh4x5k",
        "outputId": "f76227c6-6ce2-4a47-a6f2-0a05c641484a"
      },
      "execution_count": null,
      "outputs": [
        {
          "output_type": "execute_result",
          "data": {
            "text/plain": [
              "0.9428986301369863"
            ]
          },
          "metadata": {},
          "execution_count": 37
        }
      ]
    },
    {
      "cell_type": "code",
      "source": [
        "grid.best_params_"
      ],
      "metadata": {
        "colab": {
          "base_uri": "https://localhost:8080/"
        },
        "id": "ofhct50k428_",
        "outputId": "7facd4c6-8db8-4a96-fcb5-3a8ebc52003d"
      },
      "execution_count": null,
      "outputs": [
        {
          "output_type": "execute_result",
          "data": {
            "text/plain": [
              "{'solver': 'svd'}"
            ]
          },
          "metadata": {},
          "execution_count": 38
        }
      ]
    },
    {
      "cell_type": "code",
      "source": [
        "grid.score(X_test,y_test)"
      ],
      "metadata": {
        "colab": {
          "base_uri": "https://localhost:8080/"
        },
        "id": "G31-e0ai5Coh",
        "outputId": "45ee290f-6291-4705-dbcf-da6483a29a36"
      },
      "execution_count": null,
      "outputs": [
        {
          "output_type": "execute_result",
          "data": {
            "text/plain": [
              "0.9525114155251142"
            ]
          },
          "metadata": {},
          "execution_count": 39
        }
      ]
    },
    {
      "cell_type": "markdown",
      "source": [
        "### **Linear Classifiers with Stochastic Gradient Descent training**"
      ],
      "metadata": {
        "id": "KyekM2DpjO_3"
      }
    },
    {
      "cell_type": "code",
      "source": [
        "param_grid = {'loss':['hinge','log','modified_huber','squared_hinge','perceptron','squared_error','huber','epsilon_insensitive','squared_epsilon_insensitive'],\n",
        "              'penalty':['l2','l1','elasticnet'],\n",
        "              'max_iter':[2000]}\n",
        "grid = GridSearchCV(SGDClassifier(), param_grid)\n",
        "model = grid.fit(X_train,y_train)"
      ],
      "metadata": {
        "id": "knb-uI0PjkL_"
      },
      "execution_count": null,
      "outputs": []
    },
    {
      "cell_type": "markdown",
      "source": [
        "Training time: 14.37s"
      ],
      "metadata": {
        "id": "UMRYrUK1jipO"
      }
    },
    {
      "cell_type": "code",
      "source": [
        "grid.best_estimator_"
      ],
      "metadata": {
        "colab": {
          "base_uri": "https://localhost:8080/"
        },
        "id": "AC24mMqDjkzB",
        "outputId": "ac69ca01-bc64-47d4-86c0-12f66aff9077"
      },
      "execution_count": null,
      "outputs": [
        {
          "output_type": "execute_result",
          "data": {
            "text/plain": [
              "SGDClassifier(loss='squared_hinge', max_iter=2000, penalty='l1')"
            ]
          },
          "metadata": {},
          "execution_count": 46
        }
      ]
    },
    {
      "cell_type": "code",
      "source": [
        "grid.best_score_"
      ],
      "metadata": {
        "colab": {
          "base_uri": "https://localhost:8080/"
        },
        "id": "kIgr60TLjk5i",
        "outputId": "4e642af8-774c-4168-c9ae-5478e4cfbd95"
      },
      "execution_count": null,
      "outputs": [
        {
          "output_type": "execute_result",
          "data": {
            "text/plain": [
              "0.9358129158512719"
            ]
          },
          "metadata": {},
          "execution_count": 47
        }
      ]
    },
    {
      "cell_type": "code",
      "source": [
        "grid.best_params_"
      ],
      "metadata": {
        "colab": {
          "base_uri": "https://localhost:8080/"
        },
        "id": "OFGfj7fOjlAZ",
        "outputId": "dd16241e-12e7-47ee-a2d6-741671225929"
      },
      "execution_count": null,
      "outputs": [
        {
          "output_type": "execute_result",
          "data": {
            "text/plain": [
              "{'loss': 'squared_hinge', 'max_iter': 2000, 'penalty': 'l1'}"
            ]
          },
          "metadata": {},
          "execution_count": 48
        }
      ]
    },
    {
      "cell_type": "code",
      "source": [
        "grid.score(X_test,y_test)"
      ],
      "metadata": {
        "colab": {
          "base_uri": "https://localhost:8080/"
        },
        "id": "e6Fs0KpxjlFa",
        "outputId": "757472d8-a681-431d-81f1-76dd5428daad"
      },
      "execution_count": null,
      "outputs": [
        {
          "output_type": "execute_result",
          "data": {
            "text/plain": [
              "0.9351598173515981"
            ]
          },
          "metadata": {},
          "execution_count": 49
        }
      ]
    },
    {
      "cell_type": "markdown",
      "source": [
        "### **Linear Support Vector Classifier**"
      ],
      "metadata": {
        "id": "hWNRSTZdliYq"
      }
    },
    {
      "cell_type": "code",
      "source": [
        "param_grid = {'penalty':['l2','l1'],\n",
        "              'loss':['squared_hinge'],\n",
        "              'dual':[False],\n",
        "              'max_iter':[2000]}\n",
        "grid = HalvingGridSearchCV(LinearSVC(), param_grid)\n",
        "model = grid.fit(X_train,y_train)"
      ],
      "metadata": {
        "id": "MEhrOJkknRRx"
      },
      "execution_count": null,
      "outputs": []
    },
    {
      "cell_type": "markdown",
      "source": [
        "Training time: 8.12s"
      ],
      "metadata": {
        "id": "YRx1H6Ytjlho"
      }
    },
    {
      "cell_type": "code",
      "source": [
        "grid.best_estimator_"
      ],
      "metadata": {
        "colab": {
          "base_uri": "https://localhost:8080/"
        },
        "id": "33x7X84Ml2Lj",
        "outputId": "f440dac3-f66d-4afd-ed10-4fb12b78b2d9"
      },
      "execution_count": null,
      "outputs": [
        {
          "output_type": "execute_result",
          "data": {
            "text/plain": [
              "LinearSVC(dual=False, max_iter=2000)"
            ]
          },
          "metadata": {},
          "execution_count": 56
        }
      ]
    },
    {
      "cell_type": "code",
      "source": [
        "grid.best_score_"
      ],
      "metadata": {
        "colab": {
          "base_uri": "https://localhost:8080/"
        },
        "id": "erTETKBwl2SI",
        "outputId": "8b12aa2d-a359-4761-eeb1-42b3fa0abba5"
      },
      "execution_count": null,
      "outputs": [
        {
          "output_type": "execute_result",
          "data": {
            "text/plain": [
              "0.9559167645140247"
            ]
          },
          "metadata": {},
          "execution_count": 57
        }
      ]
    },
    {
      "cell_type": "code",
      "source": [
        "grid.best_params_"
      ],
      "metadata": {
        "colab": {
          "base_uri": "https://localhost:8080/"
        },
        "id": "AMw_j77Ll2Yy",
        "outputId": "3a82686c-a713-43ab-da45-dbc3b3d54a86"
      },
      "execution_count": null,
      "outputs": [
        {
          "output_type": "execute_result",
          "data": {
            "text/plain": [
              "{'dual': False, 'loss': 'squared_hinge', 'max_iter': 2000, 'penalty': 'l2'}"
            ]
          },
          "metadata": {},
          "execution_count": 58
        }
      ]
    },
    {
      "cell_type": "code",
      "source": [
        "grid.score(X_test,y_test)"
      ],
      "metadata": {
        "colab": {
          "base_uri": "https://localhost:8080/"
        },
        "id": "ZvabvbTal2eo",
        "outputId": "32504ea9-5fa9-4237-febb-fb6d6b0f2432"
      },
      "execution_count": null,
      "outputs": [
        {
          "output_type": "execute_result",
          "data": {
            "text/plain": [
              "0.958904109589041"
            ]
          },
          "metadata": {},
          "execution_count": 59
        }
      ]
    },
    {
      "cell_type": "markdown",
      "source": [
        "### **Gaussian Naive Bayes Classifier**"
      ],
      "metadata": {
        "id": "-0fHcPa1zDDu"
      }
    },
    {
      "cell_type": "code",
      "source": [
        "model = GaussianNB()\n",
        "model.fit(X_train,y_train)"
      ],
      "metadata": {
        "id": "kTIRKf5rzOFH",
        "colab": {
          "base_uri": "https://localhost:8080/"
        },
        "outputId": "f54eb4e4-09bb-43c8-b35e-fd5d02457049"
      },
      "execution_count": null,
      "outputs": [
        {
          "output_type": "execute_result",
          "data": {
            "text/plain": [
              "GaussianNB()"
            ]
          },
          "metadata": {},
          "execution_count": 71
        }
      ]
    },
    {
      "cell_type": "markdown",
      "source": [
        "Training time: 0.22s"
      ],
      "metadata": {
        "id": "0mC49ljJjqbm"
      }
    },
    {
      "cell_type": "code",
      "source": [
        "model.score(X_test,y_test)"
      ],
      "metadata": {
        "colab": {
          "base_uri": "https://localhost:8080/"
        },
        "id": "h8kYzXzMz4OU",
        "outputId": "7c540a7d-5ad0-416d-dd02-0bf2f4e95fba"
      },
      "execution_count": null,
      "outputs": [
        {
          "output_type": "execute_result",
          "data": {
            "text/plain": [
              "0.9095890410958904"
            ]
          },
          "metadata": {},
          "execution_count": 29
        }
      ]
    },
    {
      "cell_type": "markdown",
      "source": [
        "### **Decision Tree Classifier**"
      ],
      "metadata": {
        "id": "M5-PDJGGR9gi"
      }
    },
    {
      "cell_type": "code",
      "source": [
        "param_grid = {'criterion':['gini','entropy'],\n",
        "              'splitter':['best','random'],\n",
        "              'max_depth':np.arange(3,5),\n",
        "              'min_samples_split':np.arange(2,4),\n",
        "              'min_samples_leaf':np.arange(3,5),\n",
        "              'max_features':['auto','sqrt','log2']}\n",
        "grid = HalvingGridSearchCV(DecisionTreeClassifier(),param_grid,cv=5)\n",
        "model = grid.fit(X_train,y_train)"
      ],
      "metadata": {
        "id": "bLDpevHWR8lk"
      },
      "execution_count": null,
      "outputs": []
    },
    {
      "cell_type": "markdown",
      "source": [
        "Training time: 1.562s"
      ],
      "metadata": {
        "id": "GJvJhYZMjtpC"
      }
    },
    {
      "cell_type": "code",
      "source": [
        "grid.best_estimator_"
      ],
      "metadata": {
        "colab": {
          "base_uri": "https://localhost:8080/"
        },
        "id": "U9PtFK3LUdUU",
        "outputId": "8657af95-d83d-4ab2-e8a4-5948e26aa2bf"
      },
      "execution_count": null,
      "outputs": [
        {
          "output_type": "execute_result",
          "data": {
            "text/plain": [
              "DecisionTreeClassifier(max_depth=4, max_features='log2', min_samples_leaf=4,\n",
              "                       min_samples_split=3)"
            ]
          },
          "metadata": {},
          "execution_count": 17
        }
      ]
    },
    {
      "cell_type": "code",
      "source": [
        "grid.best_score_"
      ],
      "metadata": {
        "colab": {
          "base_uri": "https://localhost:8080/"
        },
        "id": "UreRBqYFUhWk",
        "outputId": "86f77ee3-3589-4837-ae6b-0d05dd2fa4f4"
      },
      "execution_count": null,
      "outputs": [
        {
          "output_type": "execute_result",
          "data": {
            "text/plain": [
              "0.9526634847989538"
            ]
          },
          "metadata": {},
          "execution_count": 18
        }
      ]
    },
    {
      "cell_type": "code",
      "source": [
        "grid.best_params_"
      ],
      "metadata": {
        "colab": {
          "base_uri": "https://localhost:8080/"
        },
        "id": "ZkTe4y7RUhhL",
        "outputId": "cc212faf-7f54-483f-e8bc-b53bcb3cb81e"
      },
      "execution_count": null,
      "outputs": [
        {
          "output_type": "execute_result",
          "data": {
            "text/plain": [
              "{'criterion': 'gini',\n",
              " 'max_depth': 4,\n",
              " 'max_features': 'log2',\n",
              " 'min_samples_leaf': 4,\n",
              " 'min_samples_split': 3,\n",
              " 'splitter': 'best'}"
            ]
          },
          "metadata": {},
          "execution_count": 19
        }
      ]
    },
    {
      "cell_type": "code",
      "source": [
        "grid.score(X_test,y_test)"
      ],
      "metadata": {
        "id": "lUL9QZjR0AWA",
        "colab": {
          "base_uri": "https://localhost:8080/"
        },
        "outputId": "5bfc44cf-3050-4c1d-a054-47109c42b634"
      },
      "execution_count": null,
      "outputs": [
        {
          "output_type": "execute_result",
          "data": {
            "text/plain": [
              "0.9598173515981735"
            ]
          },
          "metadata": {},
          "execution_count": 20
        }
      ]
    },
    {
      "cell_type": "markdown",
      "source": [
        "### **Random Forest Classifier**"
      ],
      "metadata": {
        "id": "tLPakbrfVYEn"
      }
    },
    {
      "cell_type": "code",
      "source": [
        "param_grid = {'n_estimators':np.arange(70,100,10),\n",
        "              'criterion':['gini','entropy'],\n",
        "              'max_depth':np.arange(3,5),\n",
        "              'min_samples_split':np.arange(2,4),\n",
        "              'min_samples_leaf':np.arange(3,5),\n",
        "              'max_features':['sqrt','log2',None],\n",
        "              'bootstrap':[True,False]}\n",
        "grid = HalvingGridSearchCV(RandomForestClassifier(), param_grid, factor = 3)\n",
        "model = grid.fit(X_train,y_train)"
      ],
      "metadata": {
        "id": "YSj9_vgnVlRq"
      },
      "execution_count": null,
      "outputs": []
    },
    {
      "cell_type": "markdown",
      "source": [
        "Training time: 264.758s"
      ],
      "metadata": {
        "id": "h8JpWKf4jxD8"
      }
    },
    {
      "cell_type": "code",
      "source": [
        "grid.best_estimator_"
      ],
      "metadata": {
        "colab": {
          "base_uri": "https://localhost:8080/"
        },
        "id": "OxImuxy9_dc8",
        "outputId": "95b49821-4ff1-4653-935f-d60354676126"
      },
      "execution_count": null,
      "outputs": [
        {
          "output_type": "execute_result",
          "data": {
            "text/plain": [
              "RandomForestClassifier(criterion='entropy', max_depth=4, max_features=None,\n",
              "                       min_samples_leaf=3, min_samples_split=3,\n",
              "                       n_estimators=80)"
            ]
          },
          "metadata": {},
          "execution_count": 23
        }
      ]
    },
    {
      "cell_type": "code",
      "source": [
        "grid.best_score_"
      ],
      "metadata": {
        "colab": {
          "base_uri": "https://localhost:8080/"
        },
        "id": "I59gDZbI_koJ",
        "outputId": "5b7ea58d-9d56-4793-c278-a469885f6d4f"
      },
      "execution_count": null,
      "outputs": [
        {
          "output_type": "execute_result",
          "data": {
            "text/plain": [
              "0.9654162279296189"
            ]
          },
          "metadata": {},
          "execution_count": 24
        }
      ]
    },
    {
      "cell_type": "code",
      "source": [
        "grid.best_params_"
      ],
      "metadata": {
        "colab": {
          "base_uri": "https://localhost:8080/"
        },
        "id": "PzxdPiek_nyt",
        "outputId": "412634c1-39ac-494a-fb67-dd24322bffed"
      },
      "execution_count": null,
      "outputs": [
        {
          "output_type": "execute_result",
          "data": {
            "text/plain": [
              "{'bootstrap': True,\n",
              " 'criterion': 'entropy',\n",
              " 'max_depth': 4,\n",
              " 'max_features': None,\n",
              " 'min_samples_leaf': 3,\n",
              " 'min_samples_split': 3,\n",
              " 'n_estimators': 80}"
            ]
          },
          "metadata": {},
          "execution_count": 25
        }
      ]
    },
    {
      "cell_type": "code",
      "source": [
        "grid.score(X_test,y_test)"
      ],
      "metadata": {
        "id": "EgfqOZRA0Qfl",
        "colab": {
          "base_uri": "https://localhost:8080/"
        },
        "outputId": "0ce23d63-084a-4e94-d9e9-33952aa38756"
      },
      "execution_count": null,
      "outputs": [
        {
          "output_type": "execute_result",
          "data": {
            "text/plain": [
              "0.9698630136986301"
            ]
          },
          "metadata": {},
          "execution_count": 26
        }
      ]
    },
    {
      "cell_type": "markdown",
      "source": [
        "### **Support Vector Machine**"
      ],
      "metadata": {
        "id": "z3C7IFe2WTKX"
      }
    },
    {
      "cell_type": "code",
      "source": [
        "#A lot of models couldn't run on my computer without errors.\n",
        "#So the machine learning models ran on Google Colab.\n",
        "#But the session is timed and it constantly stops before the Support Vector Machine ends its training.\n",
        "#So here is the code, but unfortunately we do not have any results."
      ],
      "metadata": {
        "id": "itQ_BfAog90T"
      },
      "execution_count": null,
      "outputs": []
    },
    {
      "cell_type": "code",
      "source": [
        "param_grid = {'kernel':['linear','poly','rbf','sigmoid'],\n",
        "              'degree':np.arange(3,4),\n",
        "              'gamma':['scale','auto']}\n",
        "grid = HalvingGridSearchCV(SVR(), param_grid, factor = 3)\n",
        "model = grid.fit(X_train,y_train)"
      ],
      "metadata": {
        "id": "UQsACYhwjHpx"
      },
      "execution_count": null,
      "outputs": []
    },
    {
      "cell_type": "markdown",
      "source": [
        "Training time: "
      ],
      "metadata": {
        "id": "1r7Mm8UCj4Vg"
      }
    },
    {
      "cell_type": "code",
      "source": [
        "grid.best_estimator_"
      ],
      "metadata": {
        "id": "DOWe3WoYm5M8"
      },
      "execution_count": null,
      "outputs": []
    },
    {
      "cell_type": "code",
      "source": [
        "grid.best_score_"
      ],
      "metadata": {
        "id": "bfSEQe5pm9xy"
      },
      "execution_count": null,
      "outputs": []
    },
    {
      "cell_type": "code",
      "source": [
        "grid.best_params_"
      ],
      "metadata": {
        "id": "hDMLUZtdm_0H"
      },
      "execution_count": null,
      "outputs": []
    },
    {
      "cell_type": "code",
      "source": [
        "grid.score(X_test,y_test)"
      ],
      "metadata": {
        "id": "c8AAKgnO0I9s"
      },
      "execution_count": null,
      "outputs": []
    },
    {
      "cell_type": "markdown",
      "source": [
        "### **K-Nearest Neighbors**"
      ],
      "metadata": {
        "id": "L-kB8CFTnY-S"
      }
    },
    {
      "cell_type": "code",
      "source": [
        "param_grid = {'n_neighbors':np.arange(3,11,2),\n",
        "              'weights':['uniform','distance'],\n",
        "              'algorithm':['auto','ball_tree','kd_tree','brute'],\n",
        "              'leaf_size':np.arange(25,35),\n",
        "              'p':[1,2]}\n",
        "grid = HalvingGridSearchCV(KNeighborsClassifier(), param_grid, factor = 3)\n",
        "model = grid.fit(X_train,y_train)"
      ],
      "metadata": {
        "id": "whUf2or_o74z"
      },
      "execution_count": null,
      "outputs": []
    },
    {
      "cell_type": "markdown",
      "source": [
        "Training time: 22.45s"
      ],
      "metadata": {
        "id": "XRflPMtWj7Fx"
      }
    },
    {
      "cell_type": "code",
      "source": [
        "grid.best_estimator_"
      ],
      "metadata": {
        "colab": {
          "base_uri": "https://localhost:8080/"
        },
        "id": "0NfRyzrBqM4x",
        "outputId": "7c671c7a-f292-4dce-e0e7-bddfbc1d1e25"
      },
      "execution_count": null,
      "outputs": [
        {
          "output_type": "execute_result",
          "data": {
            "text/plain": [
              "KNeighborsClassifier(algorithm='brute', leaf_size=29, n_neighbors=3, p=1)"
            ]
          },
          "metadata": {},
          "execution_count": 22
        }
      ]
    },
    {
      "cell_type": "code",
      "source": [
        "grid.best_score_"
      ],
      "metadata": {
        "colab": {
          "base_uri": "https://localhost:8080/"
        },
        "id": "DDjnRRUyqO4h",
        "outputId": "709fe379-e309-41ac-f837-08f085632435"
      },
      "execution_count": null,
      "outputs": [
        {
          "output_type": "execute_result",
          "data": {
            "text/plain": [
              "0.9577579392330113"
            ]
          },
          "metadata": {},
          "execution_count": 23
        }
      ]
    },
    {
      "cell_type": "code",
      "source": [
        "grid.best_params_"
      ],
      "metadata": {
        "colab": {
          "base_uri": "https://localhost:8080/"
        },
        "id": "BKmo7qJYqQmw",
        "outputId": "d62636fc-0ddf-4c18-c6f8-1e3b2aa07904"
      },
      "execution_count": null,
      "outputs": [
        {
          "output_type": "execute_result",
          "data": {
            "text/plain": [
              "{'algorithm': 'brute',\n",
              " 'leaf_size': 29,\n",
              " 'n_neighbors': 3,\n",
              " 'p': 1,\n",
              " 'weights': 'uniform'}"
            ]
          },
          "metadata": {},
          "execution_count": 24
        }
      ]
    },
    {
      "cell_type": "code",
      "source": [
        "grid.score(X_test,y_test)"
      ],
      "metadata": {
        "colab": {
          "base_uri": "https://localhost:8080/"
        },
        "id": "_Iw1iUYCx-8V",
        "outputId": "a2eb5d50-76de-47c6-9419-e3a18e4f2893"
      },
      "execution_count": null,
      "outputs": [
        {
          "output_type": "execute_result",
          "data": {
            "text/plain": [
              "0.9616438356164384"
            ]
          },
          "metadata": {},
          "execution_count": 25
        }
      ]
    },
    {
      "cell_type": "markdown",
      "source": [
        "### **Comparison**"
      ],
      "metadata": {
        "id": "PamEg0jCmEbq"
      }
    },
    {
      "cell_type": "code",
      "source": [
        "models = [\"Linear Regression\",\"Logistic Regression\",\"Linear Discriminant Analysis\",\n",
        "          \"Linear Classifiers with SGD\",\"Linear Support Vector Classifier\",\n",
        "          \"gaussian Naive Bayes\",\"Decision Tree Classifier\",\"Random Forest Classifier\",\n",
        "          \"K-Nearest Neighbors\"]\n",
        "test_scores = [30.9,94.8,95.3,93.5,95.9,91.0,96.0,97.0,96.2]\n",
        "training_times = [0.218,0.955,0.527,14.37,8.12,0.22,1.562,264.758,22.45]\n",
        "colors = [\"red\",\"darkgreen\",\"darkgreen\",\"blue\",\"forestgreen\",\"blue\",\"forestgreen\",\"limegreen\",\"forestgreen\"]"
      ],
      "metadata": {
        "id": "mfmQ06nfmG7A"
      },
      "execution_count": 19,
      "outputs": []
    },
    {
      "cell_type": "code",
      "source": [
        "plt.xticks(rotation='vertical')\n",
        "plt.bar(x = models,\n",
        "        height = test_scores,\n",
        "        color = colors)"
      ],
      "metadata": {
        "colab": {
          "base_uri": "https://localhost:8080/",
          "height": 430
        },
        "id": "1El4nXGyoAwA",
        "outputId": "2ef0ffca-fa9a-4422-e093-09b7c90b53a7"
      },
      "execution_count": 20,
      "outputs": [
        {
          "output_type": "execute_result",
          "data": {
            "text/plain": [
              "<BarContainer object of 9 artists>"
            ]
          },
          "metadata": {},
          "execution_count": 20
        },
        {
          "output_type": "display_data",
          "data": {
            "text/plain": [
              "<Figure size 432x288 with 1 Axes>"
            ],
            "image/png": "[encoded data removed]"
          },
          "metadata": {
            "needs_background": "light"
          }
        }
      ]
    },
    {
      "cell_type": "code",
      "source": [
        "plt.scatter(x = training_times,\n",
        "            y = test_scores,\n",
        "            c= colors)"
      ],
      "metadata": {
        "colab": {
          "base_uri": "https://localhost:8080/",
          "height": 285
        },
        "id": "e2103P6oqXq-",
        "outputId": "64a7b14c-e50b-44ab-eb98-02cd16526a06"
      },
      "execution_count": 21,
      "outputs": [
        {
          "output_type": "execute_result",
          "data": {
            "text/plain": [
              "<matplotlib.collections.PathCollection at 0x7f5eb8910bb0>"
            ]
          },
          "metadata": {},
          "execution_count": 21
        },
        {
          "output_type": "display_data",
          "data": {
            "text/plain": [
              "<Figure size 432x288 with 1 Axes>"
            ],
            "image/png": "[encoded data removed]"
          },
          "metadata": {
            "needs_background": "light"
          }
        }
      ]
    },
    {
      "cell_type": "markdown",
      "source": [
        "As the last graph is difficult to read, we get rid of the extremes:"
      ],
      "metadata": {
        "id": "YsgTrWarq7uA"
      }
    },
    {
      "cell_type": "code",
      "source": [
        "models = [\"Logistic Regression\",\"Linear Discriminant Analysis\",\n",
        "          \"Linear Classifiers with SGD\",\"Linear Support Vector Classifier\",\n",
        "          \"gaussian Naive Bayes\",\"Decision Tree Classifier\",\n",
        "          \"K-Nearest Neighbors\"]\n",
        "test_scores = [94.8,95.3,93.5,95.9,91.0,96.0,96.2]\n",
        "training_times = [0.955,0.527,14.37,8.12,0.22,1.562,22.45]\n",
        "colors = [\"darkgreen\",\"darkgreen\",\"blue\",\"forestgreen\",\"blue\",\"forestgreen\",\"forestgreen\"]"
      ],
      "metadata": {
        "id": "9L3t8o6jrCCU"
      },
      "execution_count": 24,
      "outputs": []
    },
    {
      "cell_type": "code",
      "source": [
        "plt.scatter(x = training_times,\n",
        "            y = test_scores,\n",
        "            c= colors)"
      ],
      "metadata": {
        "colab": {
          "base_uri": "https://localhost:8080/",
          "height": 282
        },
        "id": "NLyKnBTJrOz9",
        "outputId": "2380bb76-e0e2-4427-d745-73fb6edc4d70"
      },
      "execution_count": 25,
      "outputs": [
        {
          "output_type": "execute_result",
          "data": {
            "text/plain": [
              "<matplotlib.collections.PathCollection at 0x7f5eb8850160>"
            ]
          },
          "metadata": {},
          "execution_count": 25
        },
        {
          "output_type": "display_data",
          "data": {
            "text/plain": [
              "<Figure size 432x288 with 1 Axes>"
            ],
            "image/png": "[encoded data removed]"
          },
          "metadata": {
            "needs_background": "light"
          }
        }
      ]
    },
    {
      "cell_type": "markdown",
      "source": [
        "### **Our choice**"
      ],
      "metadata": {
        "id": "w1tUuYFythJ_"
      }
    },
    {
      "cell_type": "markdown",
      "source": [
        "Based on the performances (training time, training score and testing score), if you want to make predictions with this dataset, we recommand you to use a Decision Tree Classifier with the following parameters:\n",
        "  - 'criterion' : 'gini';\n",
        "  - 'max_depth' : 4;\n",
        "  - 'max_features' : 'log2';\n",
        "  - 'min_samples_leaf' : 4;\n",
        "  - 'min_samples_split' : 3;\n",
        "  - 'splitter' : 'best'.\n",
        "\n",
        "For a quick reminder, here are its performances:\n",
        "  - training time : 1.562s;\n",
        "  - training score : 95.3%;\n",
        "  - testing score : 96.0%."
      ],
      "metadata": {
        "id": "JUNU7juctkv0"
      }
    },
    {
      "cell_type": "markdown",
      "source": [
        "# **Deep Learning**"
      ],
      "metadata": {
        "id": "QXtncNy4rjDw"
      }
    },
    {
      "cell_type": "markdown",
      "source": [
        "Here's one simple deep learning model to complement the previous machine learning models."
      ],
      "metadata": {
        "id": "T3fs2FydvUsq"
      }
    },
    {
      "cell_type": "markdown",
      "source": [
        "### **Multi-Layer Perceptron Classifier**"
      ],
      "metadata": {
        "id": "UtxJvvA6rmTC"
      }
    },
    {
      "cell_type": "code",
      "source": [
        "param_grid = {'hidden_layer_sizes':[(20,10),(30,15),],\n",
        "              'activation':['identity','logistic','tanh','relu'],\n",
        "              'solver':['lbfgs','sgd','adam'],\n",
        "              'max_iter':[1000],\n",
        "              'learning_rate':['constant','invscaling','adaptive']}\n",
        "grid = HalvingGridSearchCV(MLPClassifier(), param_grid, factor = 3)\n",
        "model = grid.fit(X_train,y_train)"
      ],
      "metadata": {
        "id": "Hbmebkj9r7gh"
      },
      "execution_count": null,
      "outputs": []
    },
    {
      "cell_type": "markdown",
      "source": [
        "Training time: 666.818s"
      ],
      "metadata": {
        "id": "VzBj1vzCkAa_"
      }
    },
    {
      "cell_type": "code",
      "source": [
        "grid.best_score_"
      ],
      "metadata": {
        "id": "sL4yiRy5uDDV",
        "colab": {
          "base_uri": "https://localhost:8080/"
        },
        "outputId": "fa84b8c4-0049-4150-c34e-29111ba6348e"
      },
      "execution_count": null,
      "outputs": [
        {
          "output_type": "execute_result",
          "data": {
            "text/plain": [
              "0.965013926119647"
            ]
          },
          "metadata": {},
          "execution_count": 19
        }
      ]
    },
    {
      "cell_type": "code",
      "source": [
        "grid.best_params_"
      ],
      "metadata": {
        "id": "MKboItMbuFdU",
        "colab": {
          "base_uri": "https://localhost:8080/"
        },
        "outputId": "1ce61fdf-3da5-43de-bcf6-9b0e5ac938a4"
      },
      "execution_count": null,
      "outputs": [
        {
          "output_type": "execute_result",
          "data": {
            "text/plain": [
              "{'activation': 'logistic',\n",
              " 'hidden_layer_sizes': (30, 15),\n",
              " 'learning_rate': 'invscaling',\n",
              " 'max_iter': 1000,\n",
              " 'solver': 'adam'}"
            ]
          },
          "metadata": {},
          "execution_count": 20
        }
      ]
    },
    {
      "cell_type": "code",
      "source": [
        "grid.score(X_test,y_test)"
      ],
      "metadata": {
        "id": "nD8FOcSo0Vm-",
        "colab": {
          "base_uri": "https://localhost:8080/"
        },
        "outputId": "74cf81d1-97ec-41f0-f278-c8bc90de76e5"
      },
      "execution_count": null,
      "outputs": [
        {
          "output_type": "execute_result",
          "data": {
            "text/plain": [
              "0.9689497716894977"
            ]
          },
          "metadata": {},
          "execution_count": 21
        }
      ]
    },
    {
      "cell_type": "markdown",
      "source": [
        "# **Source**"
      ],
      "metadata": {
        "id": "ZqI-cNny4xGS"
      }
    },
    {
      "cell_type": "markdown",
      "source": [
        "### **Owner**"
      ],
      "metadata": {
        "id": "9LAsfS4n42bQ"
      }
    },
    {
      "cell_type": "markdown",
      "source": [
        "**Donato Malerba**\n",
        "\n",
        "Dipartimento di Informatica\n",
        "\n",
        "University of Bari\n",
        "\n",
        "via Orabona 4\n",
        "\n",
        "70126 Bari - Italy\n",
        "\n",
        "phone: +39 - 80 - 5443269\n",
        "\n",
        "fax: +39 - 80 - 5443196\n",
        "\n",
        "malerbad '@' vm.csata.it"
      ],
      "metadata": {
        "id": "KeT6OM3T4_46"
      }
    },
    {
      "cell_type": "markdown",
      "source": [
        "### **Link**"
      ],
      "metadata": {
        "id": "uZJQ16mw47fK"
      }
    },
    {
      "cell_type": "markdown",
      "source": [
        "https://archive.ics.uci.edu/ml/datasets/Page+Blocks+Classification"
      ],
      "metadata": {
        "id": "XieQWt__4-_j"
      }
    },
    {
      "cell_type": "markdown",
      "source": [
        "### **Relevant papers that use this dataset**"
      ],
      "metadata": {
        "id": "9Z0aHofL6SMR"
      }
    },
    {
      "cell_type": "markdown",
      "source": [
        "  - **Malerba, D., Esposito, F., and Semeraro, G. \"A Further Comparison of Simplification Methods for Decision-Tree Induction.\" In D. Fisher and H. Lenz (Eds.), \"Learning from Data: Artificial Intelligence and Statistics V\", Lecture Notes in Statistics, Springer Verlag, Berlin, 1995.**\n",
        "\n",
        "  - **Esposito F., Malerba D., & Semeraro G. Multistrategy Learning for Document Recognition. Applied Artificial Intelligence, 8, pp. 33-84, 1994**\n",
        "\n",
        "The first paper confirms our choice of machine learning model to use, as they also have chosen to use Decision Tree."
      ],
      "metadata": {
        "id": "Cfez3yYZ6edD"
      }
    },
    {
      "cell_type": "markdown",
      "source": [
        "### **Papers that cite this dataset**"
      ],
      "metadata": {
        "id": "QlN9Xpei6W6-"
      }
    },
    {
      "cell_type": "markdown",
      "source": [
        "  - **Steven Eschrich and Nitesh V. Chawla and Lawrence O. Hall. Generalization Methods in Bioinformatics. BIOKDD. 2002.**\n",
        "\n",
        "  - **Adil M. Bagirov and Julien Ugon. An algorithm for computation of piecewise linear function separating two sets. CIAO, School of Information Technology and Mathematical Sciences, The University of Ballarat.**\n",
        "\n",
        "  - **C. Titus Brown and Harry W. Bullen and Sean P. Kelly and Robert K. Xiao and Steven G. Satterfield and John G. Hagedorn and Judith E. Devaney. Visualization and Data Mining in an 3D Immersive Environment: Summer Project 2003.**"
      ],
      "metadata": {
        "id": "shTu_yMv6XrT"
      }
    }
  ]
}